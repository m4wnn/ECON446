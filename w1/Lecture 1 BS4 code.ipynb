{
 "cells": [
  {
   "cell_type": "markdown",
   "id": "dfee0c54",
   "metadata": {},
   "source": [
    "# Write a function to web scrape the front page of “Trulia” Housing and get a distribution of low/high end housing costs"
   ]
  },
  {
   "cell_type": "code",
   "execution_count": 12,
   "id": "8e40d084",
   "metadata": {},
   "outputs": [],
   "source": [
    "# Import Packages\n",
    "from bs4 import BeautifulSoup\n",
    "import requests\n",
    "import pandas as pd"
   ]
  },
  {
   "cell_type": "code",
   "execution_count": 13,
   "id": "6efaddbd",
   "metadata": {},
   "outputs": [],
   "source": [
    "# We talk about user agents later so run and ignore\n",
    "user_agent_list = [\"Mozilla/5.0 (Windows NT 10.0; Win64; x64) AppleWebKit/537.36 (KHTML, like Gecko) Chrome/42.0.2311.135 Safari/537.36 Edge/12.246\" \n",
    ",\"Mozilla/5.0 (Windows NT 6.1; WOW64) AppleWebKit/537.36 (KHTML, like Gecko) Chrome/47.0.2526.111 Safari/537.36 \"\n",
    ",\"Mozilla/5.0 (Macintosh; Intel Mac OS X 10_11_2) AppleWebKit/601.3.9 (KHTML, like Gecko) Version/9.0.2 Safari/601.3.9 \"\n",
    ",\"Mozilla/5.0 (X11; Ubuntu; Linux x86_64; rv:15.0) Gecko/20100101 Firefox/15.0.1\" \n",
    ",\"Mozilla/5.0 (X11; CrOS x86_64 8172.45.0) AppleWebKit/537.36 (KHTML, like Gecko) Chrome/51.0.2704.64 Safari/537.36\"] \n",
    "\n",
    "headers = {\n",
    "    'User-Agent': user_agent_list[2]}"
   ]
  },
  {
   "cell_type": "markdown",
   "id": "1a22cb80",
   "metadata": {},
   "source": [
    "### Pull from and Explore Beautiful Soup Objects"
   ]
  },
  {
   "cell_type": "code",
   "execution_count": 14,
   "id": "58f6f65d",
   "metadata": {},
   "outputs": [],
   "source": [
    "URL = "
   ]
  },
  {
   "cell_type": "code",
   "execution_count": null,
   "id": "d1ff7eb8",
   "metadata": {},
   "outputs": [],
   "source": []
  },
  {
   "cell_type": "code",
   "execution_count": null,
   "id": "7c437ff3",
   "metadata": {},
   "outputs": [],
   "source": []
  },
  {
   "cell_type": "code",
   "execution_count": null,
   "id": "d5518ac4",
   "metadata": {},
   "outputs": [],
   "source": []
  },
  {
   "cell_type": "code",
   "execution_count": null,
   "id": "15e329bc",
   "metadata": {},
   "outputs": [],
   "source": []
  },
  {
   "cell_type": "markdown",
   "id": "0604d210",
   "metadata": {},
   "source": [
    "### Find the pricing inside of the website"
   ]
  },
  {
   "cell_type": "code",
   "execution_count": null,
   "id": "a18405ef",
   "metadata": {},
   "outputs": [],
   "source": []
  },
  {
   "cell_type": "code",
   "execution_count": null,
   "id": "1a356a38",
   "metadata": {},
   "outputs": [],
   "source": []
  },
  {
   "cell_type": "code",
   "execution_count": null,
   "id": "277727e6",
   "metadata": {},
   "outputs": [],
   "source": []
  },
  {
   "cell_type": "code",
   "execution_count": null,
   "id": "fcd06edf",
   "metadata": {},
   "outputs": [],
   "source": []
  },
  {
   "cell_type": "markdown",
   "id": "bfe0d067",
   "metadata": {},
   "source": [
    "### Clean the Prices"
   ]
  },
  {
   "cell_type": "code",
   "execution_count": null,
   "id": "274ee5e9",
   "metadata": {},
   "outputs": [],
   "source": []
  },
  {
   "cell_type": "code",
   "execution_count": null,
   "id": "a2bb806f",
   "metadata": {},
   "outputs": [],
   "source": []
  },
  {
   "cell_type": "code",
   "execution_count": null,
   "id": "8ad0a776",
   "metadata": {},
   "outputs": [],
   "source": []
  },
  {
   "cell_type": "code",
   "execution_count": null,
   "id": "7d3b49a7",
   "metadata": {},
   "outputs": [],
   "source": []
  },
  {
   "cell_type": "markdown",
   "id": "56a3c3e4",
   "metadata": {},
   "source": [
    "### Make a function out or it"
   ]
  },
  {
   "cell_type": "code",
   "execution_count": null,
   "id": "6f71def1",
   "metadata": {},
   "outputs": [],
   "source": []
  },
  {
   "cell_type": "code",
   "execution_count": null,
   "id": "254523f2",
   "metadata": {},
   "outputs": [],
   "source": []
  }
 ],
 "metadata": {
  "kernelspec": {
   "display_name": "Python 3 (ipykernel)",
   "language": "python",
   "name": "python3"
  },
  "language_info": {
   "codemirror_mode": {
    "name": "ipython",
    "version": 3
   },
   "file_extension": ".py",
   "mimetype": "text/x-python",
   "name": "python",
   "nbconvert_exporter": "python",
   "pygments_lexer": "ipython3",
   "version": "3.8.12"
  }
 },
 "nbformat": 4,
 "nbformat_minor": 5
}
