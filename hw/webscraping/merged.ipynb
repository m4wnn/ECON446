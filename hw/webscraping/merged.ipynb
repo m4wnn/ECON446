{
 "cells": [
  {
   "cell_type": "markdown",
   "id": "d3604af7",
   "metadata": {
    "cell_marker": "\"\"\"",
    "lines_to_next_cell": 0
   },
   "source": [
    "<script src=\"https://cdn.jsdelivr.net/npm/mathjax@3/es5/tex-mml-chtml.js\"></script>"
   ]
  },
  {
   "cell_type": "markdown",
   "id": "52988e89",
   "metadata": {
    "lines_to_next_cell": 0
   },
   "source": [
    "<div style=\"text-align: left;\">\n",
    "    <h1>Webscraping</h1>\n",
    "    <h4>Applications of Cloud Computing and Big Data - ECON 446</h3>\n",
    "    <div style=\"padding: 20px 0;\">\n",
    "        <hr style=\"border: 0; height: 1px; background-image: linear-gradient(to right, rgba(0, 0, 0, 0), rgba(0, 0, 0, 0.75), rgba(0, 0, 0, 0));\">\n",
    "        <p><em>Bella Rakhlina</em><br>\n",
    "        <em>Lora Yovcheva</em><br>\n",
    "        <em>Mauricio Vargas-Estrada</em><br>\n",
    "        <br>Master Of Quantitative Economics<br>\n",
    "        University of California - Los Angeles</p>\n",
    "        <hr style=\"border: 0; height: 1px; background-image: linear-gradient(to right, rgba(0, 0, 0, 0), rgba(0, 0, 0, 0.75), rgba(0, 0, 0, 0));\">\n",
    "    </div>\n",
    "</div>"
   ]
  },
  {
   "cell_type": "markdown",
   "id": "caecd454",
   "metadata": {
    "lines_to_next_cell": 0
   },
   "source": [
    "## Web Crawling Tables"
   ]
  },
  {
   "cell_type": "markdown",
   "id": "aaaae8c8",
   "metadata": {},
   "source": [
    "<div style=\"border: 1px solid black; border-radius: 5px; overflow: hidden;\">\n",
    "    <div style=\"background-color: black; color: white; padding: 5px; text-align: left;\">\n",
    "       a.) \n",
    "    </div>\n",
    "    <div style=\"padding: 10px;\">\n",
    "        Create a list of links for all the wikipedia pages for NYSE traded companies A-Z and 0-9.\n",
    "</div>"
   ]
  },
  {
   "cell_type": "code",
   "execution_count": 1,
   "id": "4ccde02a",
   "metadata": {
    "lines_to_next_cell": 0
   },
   "outputs": [],
   "source": [
    "import requests\n",
    "import string\n",
    "import re\n",
    "import toolz\n",
    "import time\n",
    "import pickle\n",
    "import pandas as pd\n",
    "import numpy as np\n",
    "\n",
    "from bs4 import BeautifulSoup\n",
    "from multiprocessing import Pool\n",
    "from tqdm import tqdm\n",
    "from rich import inspect\n",
    "from pprint import pprint\n",
    "\n",
    "from selenium import webdriver\n",
    "from selenium.webdriver.firefox.options import Options\n",
    "from selenium.webdriver.common.by import By\n",
    "from selenium.webdriver.common.keys import Keys"
   ]
  },
  {
   "cell_type": "code",
   "execution_count": 2,
   "id": "d4b8204f",
   "metadata": {},
   "outputs": [],
   "source": [
    "headers = {\n",
    "    'Accept-Encoding': 'gzip, deflate, br',\n",
    "    'User-Agent': 'Mozilla/5.0 (Windows NT 10.0; Win64; x64) AppleWebKit/537.36 (KHTML, like Gecko) Chrome/42.0.2311.135 Safari/537.36 Edge/12.246'\n",
    "}"
   ]
  },
  {
   "cell_type": "code",
   "execution_count": 7,
   "id": "65204745",
   "metadata": {
    "lines_to_next_cell": 1
   },
   "outputs": [],
   "source": [
    "url = lambda x: f'https://en.wikipedia.org/wiki/Companies_listed_on_the_New_York_Stock_Exchange_({x})'"
   ]
  },
  {
   "cell_type": "code",
   "execution_count": 8,
   "id": "22f82802",
   "metadata": {
    "lines_to_next_cell": 1
   },
   "outputs": [],
   "source": [
    "def get_table_info(soup):\n",
    "    links = []\n",
    "    names = []\n",
    "    tickers = []\n",
    "\n",
    "    # For each row in the table of companies.\n",
    "    for r in soup.find_all('tr'):\n",
    "        # Get the columns for the row `r`.\n",
    "        row = r.find_all('td')\n",
    "        # Check if the row contains data.\n",
    "        if row:\n",
    "            # Extract the link of the company in the row `r`.\n",
    "            tmp_link = row[0].find_all('a')\n",
    "            # Check if the company has a link.\n",
    "            if tmp_link:\n",
    "                names.append(tmp_link[0].text)\n",
    "                # Adding the root to the relative path.\n",
    "                links.append('https://www.wikipedia.org' + tmp_link[0].get('href'))\n",
    "                tickers.append(row[1].text.strip())\n",
    "    return names, tickers, links        "
   ]
  },
  {
   "cell_type": "code",
   "execution_count": null,
   "id": "8b00ae2f",
   "metadata": {},
   "outputs": [],
   "source": [
    "links = []\n",
    "names = []\n",
    "tickers = []\n",
    "for letter in tqdm(list(string.ascii_uppercase) + ['0-9']):\n",
    "    req = requests.get(url(letter), headers=headers, timeout=20)\n",
    "    # Pass if the request is not successful or time out.\n",
    "    if not req.ok:\n",
    "        continue\n",
    "    soup = BeautifulSoup(req.content, 'html.parser')\n",
    "    tmp_n, tmp_t, tmp_l= get_table_info(soup)\n",
    "    links.extend(tmp_l)\n",
    "    names.extend(tmp_n)\n",
    "    tickers.extend(tmp_t)"
   ]
  },
  {
   "cell_type": "code",
   "execution_count": null,
   "id": "24905206",
   "metadata": {
    "lines_to_next_cell": 0
   },
   "outputs": [],
   "source": [
    "companies = pd.DataFrame({'company': names, 'ticker': tickers, 'link': links})"
   ]
  },
  {
   "cell_type": "code",
   "execution_count": 10,
   "id": "56f59937",
   "metadata": {
    "lines_to_next_cell": 0
   },
   "outputs": [],
   "source": [
    "#companies.to_csv('data/companies_links.csv', index=False)\n",
    "#companies = pd.read_csv('data/companies_links.csv')\n",
    "companies = companies.drop_duplicates()"
   ]
  },
  {
   "cell_type": "code",
   "execution_count": 11,
   "id": "7fbfb8e8",
   "metadata": {
    "lines_to_next_cell": 0
   },
   "outputs": [
    {
     "name": "stdout",
     "output_type": "stream",
     "text": [
      "                   company ticker  \\\n",
      "0  A. O. Smith Corporation    AOS   \n",
      "1       A10 Networks, Inc.   ATEN   \n",
      "2          AAR Corporation    AIR   \n",
      "3             Aaron's Inc.    AAN   \n",
      "4                 ABB LTD.    ABB   \n",
      "\n",
      "                                             link  \n",
      "0      https://www.wikipedia.org/wiki/A._O._Smith  \n",
      "1     https://www.wikipedia.org/wiki/A10_Networks  \n",
      "2         https://www.wikipedia.org/wiki/AAR_Corp  \n",
      "3  https://www.wikipedia.org/wiki/Aaron%27s,_Inc.  \n",
      "4        https://www.wikipedia.org/wiki/ABB_Group  \n"
     ]
    }
   ],
   "source": [
    "print(companies.head())"
   ]
  },
  {
   "cell_type": "markdown",
   "id": "942e9b61",
   "metadata": {
    "lines_to_next_cell": 0
   },
   "source": [
    "<div style=\"border: 1px solid black; border-radius: 5px; overflow: hidden;\">\n",
    "    <div style=\"background-color: black; color: white; padding: 5px; text-align: left;\">\n",
    "       b.) \n",
    "    </div>\n",
    "    <div style=\"padding: 10px;\">\n",
    "        Crawl through all the URLs and make 1 DF with all the NYSE publically traded companies.\n",
    "</div>"
   ]
  },
  {
   "cell_type": "code",
   "execution_count": null,
   "id": "db03ca95",
   "metadata": {
    "lines_to_next_cell": 1
   },
   "outputs": [],
   "source": [
    "def get_type(url):\n",
    "    headers = {\n",
    "        'Accept-Encoding': 'gzip, deflate, br',\n",
    "        'User-Agent': 'Mozilla/5.0 (Windows NT 10.0; Win64; x64) AppleWebKit/537.36 (KHTML, like Gecko) Chrome/42.0.2311.135 Safari/537.36 Edge/12.246'\n",
    "    }\n",
    "    # Crawling the wiki page of the company. Rise and exception if the url\n",
    "    # is broken.\n",
    "    try:\n",
    "        req = requests.get(url, headers=headers, timeout=20)\n",
    "    except:\n",
    "        print(f'Request failed in {url}')\n",
    "        return ''\n",
    "    # Pass if the request is not successful or time out.\n",
    "    if not req.ok:\n",
    "        return ''\n",
    "    soup = BeautifulSoup(req.content, 'html.parser')\n",
    "    # Extracting the type of the company from the infobox vcard. Rise an\n",
    "    \n",
    "    try:\n",
    "        vcard = soup.find_all('table', {'class': 'infobox vcard'})[0]\n",
    "        comp_type = vcard.find('a', {'title': 'Public company'}).text\n",
    "    except:\n",
    "        print(f'No company type in {url}')\n",
    "        return ''\n",
    "    return comp_type"
   ]
  },
  {
   "cell_type": "code",
   "execution_count": null,
   "id": "465ad9b3",
   "metadata": {},
   "outputs": [],
   "source": [
    "# Multiprocessing to crawl the websites in parallel. \n",
    "with Pool(100) as p:\n",
    "    comp_type = p.map(get_type, companies['link'])"
   ]
  },
  {
   "cell_type": "code",
   "execution_count": null,
   "id": "2994e581",
   "metadata": {
    "lines_to_next_cell": 0
   },
   "outputs": [],
   "source": [
    "# Type of companies in lowercase.\n",
    "companies['type'] = [x.lower() for x in comp_type]"
   ]
  },
  {
   "cell_type": "code",
   "execution_count": null,
   "id": "0416853c",
   "metadata": {},
   "outputs": [],
   "source": [
    "# Because the format is not uniform between wikis, extract the word 'public'\n",
    "# from those companies that have that pattern in their type.\n",
    "pattern = re.compile(r'.*public.*')\n",
    "companies['type'] = [\n",
    "    pattern.sub('public', s) \n",
    "    if pattern.match(s) else s for s in companies.type\n",
    "]"
   ]
  },
  {
   "cell_type": "code",
   "execution_count": 12,
   "id": "3da41eb6",
   "metadata": {
    "lines_to_next_cell": 0
   },
   "outputs": [],
   "source": [
    "#companies.to_csv('data/companies_links_with_type.csv', index=False)\n",
    "#companies = pd.read_csv('data/companies_links_with_type.csv')"
   ]
  },
  {
   "cell_type": "code",
   "execution_count": 13,
   "id": "4ec30447",
   "metadata": {
    "lines_to_next_cell": 0
   },
   "outputs": [
    {
     "name": "stdout",
     "output_type": "stream",
     "text": [
      "                           company ticker  \\\n",
      "0          A. O. Smith Corporation    AOS   \n",
      "1               A10 Networks, Inc.   ATEN   \n",
      "2                  AAR Corporation    AIR   \n",
      "3                     Aaron's Inc.    AAN   \n",
      "4                         ABB LTD.    ABB   \n",
      "...                            ...    ...   \n",
      "1522  Zimmer Biomet Holdings, Inc.    ZBH   \n",
      "1524                   Zoetis Inc.    ZTS   \n",
      "1525                   Zuora, Inc.    ZUO   \n",
      "1526        3D Systems Corporation    DDD   \n",
      "1527                    3M Company    MMM   \n",
      "\n",
      "                                                link    type  \n",
      "0         https://www.wikipedia.org/wiki/A._O._Smith  public  \n",
      "1        https://www.wikipedia.org/wiki/A10_Networks  public  \n",
      "2            https://www.wikipedia.org/wiki/AAR_Corp  public  \n",
      "3     https://www.wikipedia.org/wiki/Aaron%27s,_Inc.  public  \n",
      "4           https://www.wikipedia.org/wiki/ABB_Group  public  \n",
      "...                                              ...     ...  \n",
      "1522    https://www.wikipedia.org/wiki/Zimmer_Biomet  public  \n",
      "1524           https://www.wikipedia.org/wiki/Zoetis  public  \n",
      "1525            https://www.wikipedia.org/wiki/Zuora  public  \n",
      "1526       https://www.wikipedia.org/wiki/3D_Systems  public  \n",
      "1527               https://www.wikipedia.org/wiki/3M  public  \n",
      "\n",
      "[1015 rows x 4 columns]\n"
     ]
    }
   ],
   "source": [
    "# Companies that are public according to their wiki page.\n",
    "print(companies.query(\"type=='public'\"))"
   ]
  },
  {
   "cell_type": "markdown",
   "id": "dedd0386",
   "metadata": {
    "lines_to_next_cell": 0
   },
   "source": [
    "<div style=\"border: 1px solid black; border-radius: 5px; overflow: hidden;\">\n",
    "    <div style=\"background-color: black; color: white; padding: 5px; text-align: left;\">\n",
    "       c.) \n",
    "    </div>\n",
    "    <div style=\"padding: 10px;\">\n",
    "        What is the percetages of companies that contain 1 letter, 2 letters, 3 letters, 4 letters, 5 letters,... in the ticker (drop punctuation)?\n",
    "</div>"
   ]
  },
  {
   "cell_type": "code",
   "execution_count": 14,
   "id": "81c83a79",
   "metadata": {
    "lines_to_next_cell": 0
   },
   "outputs": [],
   "source": [
    "# Cleaning the ticker column.\n",
    "companies['clean_ticker'] = [\n",
    "    re.match(r\"[^,.!? ]+\", x).group(0)\n",
    "    for x in companies.ticker\n",
    "]"
   ]
  },
  {
   "cell_type": "code",
   "execution_count": 15,
   "id": "f52bb4f6",
   "metadata": {
    "lines_to_next_cell": 0
   },
   "outputs": [],
   "source": [
    "# Calculating the length of the ticker.\n",
    "companies['len_ticker'] = [len(x) for x in companies.clean_ticker]"
   ]
  },
  {
   "cell_type": "code",
   "execution_count": 16,
   "id": "10cbc024",
   "metadata": {
    "lines_to_next_cell": 0
   },
   "outputs": [],
   "source": [
    "# Counting the percentage of companies with each length of ticker.\n",
    "len_ticker_pct = toolz.pipe(\n",
    "    companies[['clean_ticker', 'len_ticker']],\n",
    "    lambda x: x.drop_duplicates(),\n",
    "    lambda x: x.groupby('len_ticker'),\n",
    "    lambda x: x.count(),\n",
    "    lambda x: x * 100 / x.sum()\n",
    ")"
   ]
  },
  {
   "cell_type": "code",
   "execution_count": 17,
   "id": "21f8a324",
   "metadata": {
    "lines_to_next_cell": 0
   },
   "outputs": [
    {
     "name": "stdout",
     "output_type": "stream",
     "text": [
      "\n",
      "    -----------------------------------------\n",
      "        Length of the ticker: 1\n",
      "        % in the total of companies: 1.52\n",
      "    -----------------------------------------\n",
      "    \n",
      "\n",
      "    -----------------------------------------\n",
      "        Length of the ticker: 2\n",
      "        % in the total of companies: 10.13\n",
      "    -----------------------------------------\n",
      "    \n",
      "\n",
      "    -----------------------------------------\n",
      "        Length of the ticker: 3\n",
      "        % in the total of companies: 72.58\n",
      "    -----------------------------------------\n",
      "    \n",
      "\n",
      "    -----------------------------------------\n",
      "        Length of the ticker: 4\n",
      "        % in the total of companies: 15.76\n",
      "    -----------------------------------------\n",
      "    \n"
     ]
    }
   ],
   "source": [
    "for i, row in len_ticker_pct.iterrows():\n",
    "    tmp = f'''\n",
    "    -----------------------------------------\n",
    "        Length of the ticker: {i}\n",
    "        % in the total of companies: {row.clean_ticker:0.2f}\n",
    "    -----------------------------------------\n",
    "    '''\n",
    "    print(tmp)"
   ]
  },
  {
   "cell_type": "markdown",
   "id": "192d97d8",
   "metadata": {
    "lines_to_next_cell": 0
   },
   "source": [
    "## Web Scraping Using Beautiful Soup"
   ]
  },
  {
   "cell_type": "markdown",
   "id": "b359afbe",
   "metadata": {
    "lines_to_next_cell": 0
   },
   "source": [
    "<div style=\"border: 1px solid black; border-radius: 5px; overflow: hidden;\">\n",
    "    <div style=\"background-color: black; color: white; padding: 5px; text-align: left;\">\n",
    "       a.) \n",
    "    </div>\n",
    "    <div style=\"padding: 10px;\">\n",
    "        Using Beautiful soup .findAll method you will webscrape the front page of Reddit. Get a list of all of the \"timestamps\"\n",
    "</div>"
   ]
  },
  {
   "cell_type": "code",
   "execution_count": 3,
   "id": "fc666a69",
   "metadata": {},
   "outputs": [],
   "source": [
    "# User agent to simulate a browser in selenium.\n",
    "options = Options()\n",
    "options.set_preference(\"general.useragent.override\", \"Mozilla/5.0 (Windows NT 10.0; Win64; x64) AppleWebKit/537.36 (KHTML, like Gecko) Chrome/58.0.3029.110 Safari/537.3\")"
   ]
  },
  {
   "cell_type": "code",
   "execution_count": null,
   "id": "f80ac246",
   "metadata": {
    "lines_to_next_cell": 0
   },
   "outputs": [],
   "source": [
    "# Initialize the browser.\n",
    "driver = webdriver.Firefox(options=options)"
   ]
  },
  {
   "cell_type": "code",
   "execution_count": null,
   "id": "db811e6d",
   "metadata": {
    "lines_to_next_cell": 0
   },
   "outputs": [],
   "source": [
    "# Open the website in the browser.\n",
    "driver.get(\"https://www.reddit.com\")\n",
    "time.sleep(5)\n",
    "\n",
    "# Verifying the numbers of posts extracted from the page.\n",
    "num_posts_before = 0\n",
    "\n",
    "# posts inside the website to scroll down.\n",
    "body = driver.find_element(By.TAG_NAME, 'body')\n",
    "\n",
    "start_time = time.time()\n",
    "time_limit_scroll = 600 # 10 minutes\n",
    "\n",
    "# Scrolling down the page until the time limit is reached.\n",
    "print('Scrolling down the page...')\n",
    "while time.time() - start_time < time_limit_scroll:\n",
    "    print(f'Time elapsed: {time.time() - start_time:.2f} seconds')\n",
    "    # Extracting the articles from the page.\n",
    "    posts = driver.find_elements(By.XPATH, '//article[@class=\"w-full m-0\"]')\n",
    "    \n",
    "    # Verifying that the number of posts is changing in each iteration.\n",
    "    if len(posts) == num_posts_before:\n",
    "        print('Something went wrong. The number of posts is not changing. Stopping..')\n",
    "        break  \n",
    "    else:\n",
    "        num_posts_before = len(posts)\n",
    "\n",
    "    # Simulate pressing the END key to scroll down the page.\n",
    "    body.send_keys(Keys.END)\n",
    "\n",
    "    # Wait for the page to load.\n",
    "    time.sleep(6)\n",
    "print('Time limit reached.')"
   ]
  },
  {
   "cell_type": "code",
   "execution_count": null,
   "id": "be161e15",
   "metadata": {},
   "outputs": [],
   "source": [
    "# Extracting the html for each post.\n",
    "html_content = [x.get_attribute('outerHTML') for x in posts]"
   ]
  },
  {
   "cell_type": "code",
   "execution_count": null,
   "id": "bbf9e352",
   "metadata": {},
   "outputs": [],
   "source": [
    "# Save the html content to a pickle file.\n",
    "with open('data/reddit_posts.pkl', 'wb') as f:\n",
    "    pickle.dump(html_content, f)"
   ]
  },
  {
   "cell_type": "code",
   "execution_count": null,
   "id": "95a1ea31",
   "metadata": {},
   "outputs": [],
   "source": [
    "# Close the browser.\n",
    "driver.quit()"
   ]
  },
  {
   "cell_type": "code",
   "execution_count": 2,
   "id": "c735653d",
   "metadata": {},
   "outputs": [],
   "source": [
    "# Load the html content from the pickle file to avoid running the code again.\n",
    "#with open('data/reddit_posts.pkl', 'rb') as f:\n",
    "    #html_content = pickle.load(f)"
   ]
  },
  {
   "cell_type": "code",
   "execution_count": 3,
   "id": "4fc2b102",
   "metadata": {
    "lines_to_next_cell": 0
   },
   "outputs": [],
   "source": [
    "# Parsing each post with BeautifulSoup.\n",
    "html_content = [BeautifulSoup(x, 'html.parser') for  x in html_content]"
   ]
  },
  {
   "cell_type": "code",
   "execution_count": 4,
   "id": "f8cba774",
   "metadata": {
    "lines_to_next_cell": 0
   },
   "outputs": [],
   "source": [
    "# Extracting only the timestamps for each post.\n",
    "timestamps = [x.find('time').get_attribute_list('datetime')[0] for x in html_content]"
   ]
  },
  {
   "cell_type": "code",
   "execution_count": 5,
   "id": "ab6f58e8",
   "metadata": {
    "lines_to_next_cell": 0
   },
   "outputs": [
    {
     "name": "stdout",
     "output_type": "stream",
     "text": [
      "Total number of posts extracted: 2478\n",
      "First 10 timestamps:\n",
      "['2024-04-19T07:10:50.758Z',\n",
      " '2024-04-19T17:25:09.146Z',\n",
      " '2024-04-19T13:10:37.611Z',\n",
      " '2024-04-19T11:20:55.005Z',\n",
      " '2024-04-19T15:02:59.261Z',\n",
      " '2024-04-19T19:17:01.403Z',\n",
      " '2024-04-19T02:00:27.276Z',\n",
      " '2024-04-19T11:38:59.637Z',\n",
      " '2024-04-19T19:45:27.032Z']\n"
     ]
    }
   ],
   "source": [
    "print(f'Total number of posts extracted: {len(timestamps)}')\n",
    "print('First 10 timestamps:')\n",
    "pprint(timestamps[0:9])"
   ]
  },
  {
   "cell_type": "markdown",
   "id": "ee84c5d3",
   "metadata": {
    "lines_to_next_cell": 0
   },
   "source": [
    "<div style=\"border: 1px solid black; border-radius: 5px; overflow: hidden;\">\n",
    "    <div style=\"background-color: black; color: white; padding: 5px; text-align: left;\">\n",
    "       b.) \n",
    "    </div>\n",
    "    <div style=\"padding: 10px;\">\n",
    "        Using the functions findChild, descendents, etc. locate the post title, text and post time into a dataframe.\n",
    "</div>"
   ]
  },
  {
   "cell_type": "code",
   "execution_count": 6,
   "id": "3c876db1",
   "metadata": {
    "lines_to_next_cell": 0
   },
   "outputs": [],
   "source": [
    "titles = [x.find('article').get_attribute_list('aria-label')[0] for x in html_content]"
   ]
  },
  {
   "cell_type": "code",
   "execution_count": 7,
   "id": "2a617e8a",
   "metadata": {
    "lines_to_next_cell": 0
   },
   "outputs": [],
   "source": [
    "text_div_class = re.compile(r'.*feed-card-text-preview.*')\n",
    "texts = []\n",
    "for post in html_content:\n",
    "    tmp = post.find_all(\n",
    "        'div',\n",
    "        class_ = lambda x : x and text_div_class.match(x)    \n",
    "    )\n",
    "    if tmp:\n",
    "        tmp = tmp[0].text\n",
    "    else:\n",
    "        tmp = np.nan\n",
    "    texts.append(tmp)"
   ]
  },
  {
   "cell_type": "code",
   "execution_count": 8,
   "id": "bd66e732",
   "metadata": {},
   "outputs": [],
   "source": [
    "post_df = pd.DataFrame({\n",
    "    'timestamp': timestamps,\n",
    "    'title': titles,\n",
    "    'text': texts\n",
    "})"
   ]
  },
  {
   "cell_type": "code",
   "execution_count": 12,
   "id": "19f532d5",
   "metadata": {
    "lines_to_next_cell": 0
   },
   "outputs": [
    {
     "name": "stdout",
     "output_type": "stream",
     "text": [
      "First 5 posts with text:\n",
      "                   timestamp  \\\n",
      "2   2024-04-19T13:10:37.611Z   \n",
      "21  2024-04-19T15:55:01.669Z   \n",
      "23  2024-04-19T16:35:15.247Z   \n",
      "28  2024-04-19T05:30:53.159Z   \n",
      "34  2024-04-19T15:22:26.286Z   \n",
      "\n",
      "                                                title  \\\n",
      "2   My husband won't let me take more than two sho...   \n",
      "21  AITAH for breaking up with my bf after he alle...   \n",
      "23  After years of tipping 20-25% I’m DONE. I’m ti...   \n",
      "28  Orbital cooldowns are way too long compared to...   \n",
      "34  Is it just me or is the new Taylor swift album...   \n",
      "\n",
      "                                                 text  \n",
      "2   \\n\\n    This is the weirdest thing my husband ...  \n",
      "21  \\n\\n    I’m not a clubbing kind of girl. My bf...  \n",
      "23  \\n\\n    I have always “over tipped” according ...  \n",
      "28  \\n\\n    Orbital Precision Strike has a 100s co...  \n",
      "34  \\n\\n    I'm not here to be a hater but I felt ...  \n"
     ]
    }
   ],
   "source": [
    "# Printing the first 10 posts with text.\n",
    "print('First 5 posts with text:')\n",
    "print(post_df.query('text.notna()').head(5))"
   ]
  },
  {
   "cell_type": "markdown",
   "id": "3c90f56f",
   "metadata": {
    "lines_to_next_cell": 0
   },
   "source": [
    "## RegEx"
   ]
  },
  {
   "cell_type": "markdown",
   "id": "215da9db",
   "metadata": {
    "lines_to_next_cell": 0
   },
   "source": [
    "<div style=\"border: 1px solid black; border-radius: 5px; overflow: hidden;\">\n",
    "    <div style=\"background-color: black; color: white; padding: 5px; text-align: left;\">\n",
    "       a.) \n",
    "    </div>\n",
    "    <div style=\"padding: 10px;\">\n",
    "        Using RegEx, get all the urls of ladder faculty profiles for UCLA Economics\n",
    "</div>"
   ]
  },
  {
   "cell_type": "code",
   "execution_count": 4,
   "id": "99aa443f",
   "metadata": {},
   "outputs": [],
   "source": [
    "URL = \"https://economics.ucla.edu/faculty/ladder\""
   ]
  },
  {
   "cell_type": "code",
   "execution_count": null,
   "id": "0be23f9c",
   "metadata": {},
   "outputs": [],
   "source": [
    "# Getting the flex table of the ladder faculty.\n",
    "req_ladder = requests.get(URL, headers=headers)"
   ]
  },
  {
   "cell_type": "code",
   "execution_count": null,
   "id": "01777e86",
   "metadata": {
    "lines_to_next_cell": 0
   },
   "outputs": [],
   "source": [
    "# Extracting the name and url for each profile in the ladder faculty.\n",
    "tmp = re.compile(r'flex_column av_one_fourth.*')\n",
    "profiles_info = toolz.pipe(\n",
    "    req_ladder,\n",
    "    lambda x: x.content,\n",
    "    lambda x: BeautifulSoup(x, 'html.parser'),\n",
    "    lambda x : x.find(\n",
    "        'div',\n",
    "        {'id': 'wpv-view-layout-974-CATTR0494cfbfb8d3e1b3152203680573333f'}\n",
    "    ),\n",
    "    lambda x: x.find_all(\n",
    "        'div',\n",
    "        class_ = lambda x : x and tmp.match(x)\n",
    "    ),\n",
    "    lambda x: [y.find('h3') for y in x],\n",
    "    lambda x: {\n",
    "        'name': [y.text for y in x],\n",
    "        'url': [y.find('a')['href'] for y in x]\n",
    "    },\n",
    "    lambda x: pd.DataFrame(x)\n",
    ")"
   ]
  },
  {
   "cell_type": "markdown",
   "id": "5201c24e",
   "metadata": {
    "lines_to_next_cell": 0
   },
   "source": [
    "<div style=\"border: 1px solid black; border-radius: 5px; overflow: hidden;\">\n",
    "    <div style=\"background-color: black; color: white; padding: 5px; text-align: left;\">\n",
    "       b.) \n",
    "    </div>\n",
    "    <div style=\"padding: 10px;\">\n",
    "        Webcrawl the links from A and use RegEx to get all the emails and phone numbers of ladder faculty profiles.\n",
    "</div>"
   ]
  },
  {
   "cell_type": "code",
   "execution_count": null,
   "id": "0e1f550b",
   "metadata": {
    "lines_to_next_cell": 0
   },
   "outputs": [],
   "source": [
    "# Crawling the profiles urls.\n",
    "crawled_info = []\n",
    "for url in tqdm(profiles_info['url']):\n",
    "    tmp = requests.get(url, headers=headers).content\n",
    "    crawled_info.append(tmp)\n",
    "    time.sleep(10)"
   ]
  },
  {
   "cell_type": "code",
   "execution_count": null,
   "id": "9d42af54",
   "metadata": {},
   "outputs": [],
   "source": [
    "# Extracting the email and phone from the crawled info using regex.\n",
    "regex_email = re.compile(r'[a-zA-Z0-9_.+-]+@[a-zA-Z0-9-]+\\.[a-zA-Z0-9-.]+')\n",
    "regex_phone = re.compile(r'([\\+]?[(]?[0-9]{3}[)]?[-\\s\\.][0-9]{3}[-\\s\\.][0-9]{4,6})')\n",
    "email = []\n",
    "phone = []\n",
    "for raw in crawled_info:\n",
    "    tmp = BeautifulSoup(raw, 'html.parser')\n",
    "    tmp_email = tmp.find(string=regex_email)\n",
    "    tmp_phone = tmp.find(string=regex_phone)\n",
    "\n",
    "    if tmp_email:\n",
    "        email.append(tmp_email)\n",
    "    else:\n",
    "        email.append(np.nan)\n",
    "    \n",
    "    if tmp_phone:\n",
    "        phone.append(tmp_phone)\n",
    "    else:\n",
    "        phone.append(np.nan)"
   ]
  },
  {
   "cell_type": "code",
   "execution_count": null,
   "id": "84a7b2ee",
   "metadata": {
    "lines_to_next_cell": 0
   },
   "outputs": [],
   "source": [
    "profiles_info['email'] = email\n",
    "profiles_info['phone'] = phone"
   ]
  },
  {
   "cell_type": "code",
   "execution_count": 14,
   "id": "fdb4d363",
   "metadata": {
    "lines_to_next_cell": 0
   },
   "outputs": [
    {
     "name": "stdout",
     "output_type": "stream",
     "text": [
      "                    name                                                url  \\\n",
      "8         Ariel Burstein  https://economics.ucla.edu/person/ariel-burstein/   \n",
      "12      Pablo Fajgelbaum  https://economics.ucla.edu/person/pablo-fajgel...   \n",
      "17    Martin B. Hackmann  https://economics.ucla.edu/person/martin-b-hac...   \n",
      "18          Jinyong Hahn    https://economics.ucla.edu/person/jinyong-hahn/   \n",
      "20        Hugo Hopenhayn  https://economics.ucla.edu/person/hugo-hopenhayn/   \n",
      "23  Adriana Lleras-Muney  https://economics.ucla.edu/person/adriana-ller...   \n",
      "25                Jay Lu          https://economics.ucla.edu/person/jay-lu/   \n",
      "26          Rosa Matzkin  https://economics.ucla.edu/person/rosa-liliana...   \n",
      "27     Maurizio Mazzocco  https://economics.ucla.edu/person/maurizio-maz...   \n",
      "28      Kathleen McGarry  https://economics.ucla.edu/person/kathleen-mcg...   \n",
      "\n",
      "                        email            phone  \n",
      "8        arielb@econ.ucla.edu   (310) 206-6732  \n",
      "12  pfajgelbaum@econ.ucla.edu   (310) 794-7241  \n",
      "17     hackmann@econ.ucla.edu   (310) 825-1011  \n",
      "18         hahn@econ.ucla.edu   (310) 825-1011  \n",
      "20        hopen@econ.ucla.edu   (310) 206-8896  \n",
      "23      alleras@econ.ucla.edu   (310) 825-3925  \n",
      "25          jay@econ.ucla.edu   (310) 825-7380  \n",
      "26      matzkin@econ.ucla.edu   (310) 825-7371  \n",
      "27     mmazzocc@econ.ucla.edu   (310) 825-6682  \n",
      "28           mcgarry@ucla.edu   (310) 825-1011  \n"
     ]
    }
   ],
   "source": [
    "# Printing those profiles with phone number.\n",
    "print(profiles_info.query('phone.notna()').head(10))"
   ]
  },
  {
   "cell_type": "code",
   "execution_count": 7,
   "id": "a56f295e",
   "metadata": {
    "lines_to_next_cell": 0
   },
   "outputs": [
    {
     "name": "stdout",
     "output_type": "stream",
     "text": [
      "\n",
      "Number of profiles: 45\n",
      "Number of profiles with phone number: 16\n",
      "\n"
     ]
    }
   ],
   "source": [
    "tmp = f\"\"\"\n",
    "Number of profiles: {profiles_info.shape[0]}\n",
    "Number of profiles with phone number: {profiles_info.query('phone.notna()').shape[0]}\n",
    "\"\"\"\n",
    "print(tmp)"
   ]
  },
  {
   "cell_type": "markdown",
   "id": "14d1182b",
   "metadata": {
    "lines_to_next_cell": 0
   },
   "source": [
    "## Selenium"
   ]
  },
  {
   "cell_type": "markdown",
   "id": "e875d32b",
   "metadata": {},
   "source": [
    "<div style=\"border: 1px solid black; border-radius: 5px; overflow: hidden;\">\n",
    "    <div style=\"background-color: black; color: white; padding: 5px; text-align: left;\">\n",
    "       a.) \n",
    "    </div>\n",
    "    <div style=\"padding: 10px;\">\n",
    "        Pick a website that has useful data to a business or economic question. Put your website you plan to scrape here : \n",
    "        \n",
    "        https://docs.google.com/spreadsheets/d/1PJ2DOTCVCh51fn0ry1yB7qTyccR33_IXFpkYdd58MFs/edit?usp=sharing\n",
    "\n",
    "        You must have use website that no other group has. First come first serve.\n",
    "</div>"
   ]
  },
  {
   "cell_type": "markdown",
   "id": "87d00f7a",
   "metadata": {
    "lines_to_next_cell": 0
   },
   "source": [
    "<div style=\"border: 1px solid black; border-radius: 5px; overflow: hidden;\">\n",
    "    <div style=\"background-color: black; color: white; padding: 5px; text-align: left;\">\n",
    "       b.) \n",
    "    </div>\n",
    "    <div style=\"padding: 10px;\">\n",
    "        Use Selenium to scrape valuable information from your website and store in a dataframe.\n",
    "</div>"
   ]
  },
  {
   "cell_type": "markdown",
   "id": "acac15cb",
   "metadata": {},
   "source": [
    "<div style=\"border: 1px solid black; border-radius: 5px; overflow: hidden;\">\n",
    "    <div style=\"background-color: black; color: white; padding: 5px; text-align: left;\">\n",
    "       c.) \n",
    "    </div>\n",
    "    <div style=\"padding: 10px;\">\n",
    "        Write a short paragraph about the businesses or research that would use the data you scraped. Describe it's value and what it can be used for.\n",
    "</div>"
   ]
  }
 ],
 "metadata": {
  "jupytext": {
   "cell_metadata_filter": "-all",
   "formats": "py:percent,ipynb",
   "main_language": "python"
  },
  "language_info": {
   "codemirror_mode": {
    "name": "ipython",
    "version": 3
   },
   "file_extension": ".py",
   "mimetype": "text/x-python",
   "name": "python",
   "nbconvert_exporter": "python",
   "pygments_lexer": "ipython3",
   "version": "3.11.5"
  }
 },
 "nbformat": 4,
 "nbformat_minor": 5
}
