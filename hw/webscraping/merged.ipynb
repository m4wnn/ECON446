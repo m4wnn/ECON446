{
 "cells": [
  {
   "cell_type": "markdown",
   "id": "d3604af7",
   "metadata": {
    "cell_marker": "\"\"\"",
    "lines_to_next_cell": 0
   },
   "source": [
    "<script src=\"https://cdn.jsdelivr.net/npm/mathjax@3/es5/tex-mml-chtml.js\"></script>"
   ]
  },
  {
   "cell_type": "markdown",
   "id": "52988e89",
   "metadata": {
    "lines_to_next_cell": 0
   },
   "source": [
    "<div style=\"text-align: left;\">\n",
    "    <h1>Webscraping</h1>\n",
    "    <h4>Applications of Cloud Computing and Big Data - ECON 446</h3>\n",
    "    <div style=\"padding: 20px 0;\">\n",
    "        <hr style=\"border: 0; height: 1px; background-image: linear-gradient(to right, rgba(0, 0, 0, 0), rgba(0, 0, 0, 0.75), rgba(0, 0, 0, 0));\">\n",
    "        <p><em>Bella Rakhlina</em><br>\n",
    "        <em>Lora Yovcheva</em><br>\n",
    "        <em>Mauricio Vargas-Estrada</em><br>\n",
    "        <br>Master Of Quantitative Economics<br>\n",
    "        University of California - Los Angeles</p>\n",
    "        <hr style=\"border: 0; height: 1px; background-image: linear-gradient(to right, rgba(0, 0, 0, 0), rgba(0, 0, 0, 0.75), rgba(0, 0, 0, 0));\">\n",
    "    </div>\n",
    "</div>"
   ]
  },
  {
   "cell_type": "markdown",
   "id": "caecd454",
   "metadata": {
    "lines_to_next_cell": 0
   },
   "source": [
    "## Web Crawling Tables"
   ]
  },
  {
   "cell_type": "markdown",
   "id": "aaaae8c8",
   "metadata": {},
   "source": [
    "<div style=\"border: 1px solid black; border-radius: 5px; overflow: hidden;\">\n",
    "    <div style=\"background-color: black; color: white; padding: 5px; text-align: left;\">\n",
    "       a.) \n",
    "    </div>\n",
    "    <div style=\"padding: 10px;\">\n",
    "        Create a list of links for all the wikipedia pages for NYSE traded companies A-Z and 0-9.\n",
    "</div>"
   ]
  },
  {
   "cell_type": "code",
   "execution_count": 5,
   "id": "4ccde02a",
   "metadata": {
    "lines_to_next_cell": 0
   },
   "outputs": [],
   "source": [
    "import requests\n",
    "import string\n",
    "import re\n",
    "import pandas as pd\n",
    "import toolz\n",
    "from rich import inspect\n",
    "from bs4 import BeautifulSoup\n",
    "from tqdm import tqdm\n",
    "from multiprocessing import Pool"
   ]
  },
  {
   "cell_type": "code",
   "execution_count": 6,
   "id": "d4b8204f",
   "metadata": {},
   "outputs": [],
   "source": [
    "headers = {\n",
    "    'Accept-Encoding': 'gzip, deflate, br',\n",
    "    'User-Agent': 'Mozilla/5.0 (Windows NT 10.0; Win64; x64) AppleWebKit/537.36 (KHTML, like Gecko) Chrome/42.0.2311.135 Safari/537.36 Edge/12.246'\n",
    "}"
   ]
  },
  {
   "cell_type": "code",
   "execution_count": 7,
   "id": "65204745",
   "metadata": {
    "lines_to_next_cell": 1
   },
   "outputs": [],
   "source": [
    "url = lambda x: f'https://en.wikipedia.org/wiki/Companies_listed_on_the_New_York_Stock_Exchange_({x})'"
   ]
  },
  {
   "cell_type": "code",
   "execution_count": 8,
   "id": "22f82802",
   "metadata": {
    "lines_to_next_cell": 1
   },
   "outputs": [],
   "source": [
    "def get_table_info(soup):\n",
    "    links = []\n",
    "    names = []\n",
    "    tickers = []\n",
    "\n",
    "    # For each row in the table of companies.\n",
    "    for r in soup.find_all('tr'):\n",
    "        # Get the columns for the row `r`.\n",
    "        row = r.find_all('td')\n",
    "        # Check if the row contains data.\n",
    "        if row:\n",
    "            # Extract the link of the company in the row `r`.\n",
    "            tmp_link = row[0].find_all('a')\n",
    "            # Check if the company has a link.\n",
    "            if tmp_link:\n",
    "                names.append(tmp_link[0].text)\n",
    "                # Adding the root to the relative path.\n",
    "                links.append('https://www.wikipedia.org' + tmp_link[0].get('href'))\n",
    "                tickers.append(row[1].text.strip())\n",
    "    return names, tickers, links        "
   ]
  },
  {
   "cell_type": "code",
   "execution_count": null,
   "id": "8b00ae2f",
   "metadata": {},
   "outputs": [],
   "source": [
    "links = []\n",
    "names = []\n",
    "tickers = []\n",
    "for letter in tqdm(list(string.ascii_uppercase) + ['0-9']):\n",
    "    req = requests.get(url(letter), headers=headers, timeout=20)\n",
    "    # Pass if the request is not successful or time out.\n",
    "    if not req.ok:\n",
    "        continue\n",
    "    soup = BeautifulSoup(req.content, 'html.parser')\n",
    "    tmp_n, tmp_t, tmp_l= get_table_info(soup)\n",
    "    links.extend(tmp_l)\n",
    "    names.extend(tmp_n)\n",
    "    tickers.extend(tmp_t)"
   ]
  },
  {
   "cell_type": "code",
   "execution_count": null,
   "id": "24905206",
   "metadata": {
    "lines_to_next_cell": 0
   },
   "outputs": [],
   "source": [
    "companies = pd.DataFrame({'company': names, 'ticker': tickers, 'link': links})"
   ]
  },
  {
   "cell_type": "code",
   "execution_count": 10,
   "id": "56f59937",
   "metadata": {
    "lines_to_next_cell": 0
   },
   "outputs": [],
   "source": [
    "#companies.to_csv('data/companies_links.csv', index=False)\n",
    "#companies = pd.read_csv('data/companies_links.csv')\n",
    "companies = companies.drop_duplicates()"
   ]
  },
  {
   "cell_type": "code",
   "execution_count": 11,
   "id": "7fbfb8e8",
   "metadata": {
    "lines_to_next_cell": 0
   },
   "outputs": [
    {
     "name": "stdout",
     "output_type": "stream",
     "text": [
      "                   company ticker  \\\n",
      "0  A. O. Smith Corporation    AOS   \n",
      "1       A10 Networks, Inc.   ATEN   \n",
      "2          AAR Corporation    AIR   \n",
      "3             Aaron's Inc.    AAN   \n",
      "4                 ABB LTD.    ABB   \n",
      "\n",
      "                                             link  \n",
      "0      https://www.wikipedia.org/wiki/A._O._Smith  \n",
      "1     https://www.wikipedia.org/wiki/A10_Networks  \n",
      "2         https://www.wikipedia.org/wiki/AAR_Corp  \n",
      "3  https://www.wikipedia.org/wiki/Aaron%27s,_Inc.  \n",
      "4        https://www.wikipedia.org/wiki/ABB_Group  \n"
     ]
    }
   ],
   "source": [
    "print(companies.head())"
   ]
  },
  {
   "cell_type": "markdown",
   "id": "942e9b61",
   "metadata": {
    "lines_to_next_cell": 0
   },
   "source": [
    "<div style=\"border: 1px solid black; border-radius: 5px; overflow: hidden;\">\n",
    "    <div style=\"background-color: black; color: white; padding: 5px; text-align: left;\">\n",
    "       b.) \n",
    "    </div>\n",
    "    <div style=\"padding: 10px;\">\n",
    "        Crawl through all the URLs and make 1 DF with all the NYSE publically traded companies.\n",
    "</div>"
   ]
  },
  {
   "cell_type": "code",
   "execution_count": null,
   "id": "db03ca95",
   "metadata": {
    "lines_to_next_cell": 1
   },
   "outputs": [],
   "source": [
    "def get_type(url):\n",
    "    headers = {\n",
    "        'Accept-Encoding': 'gzip, deflate, br',\n",
    "        'User-Agent': 'Mozilla/5.0 (Windows NT 10.0; Win64; x64) AppleWebKit/537.36 (KHTML, like Gecko) Chrome/42.0.2311.135 Safari/537.36 Edge/12.246'\n",
    "    }\n",
    "    # Crawling the wiki page of the company. Rise and exception if the url\n",
    "    # is broken.\n",
    "    try:\n",
    "        req = requests.get(url, headers=headers, timeout=20)\n",
    "    except:\n",
    "        print(f'Request failed in {url}')\n",
    "        return ''\n",
    "    # Pass if the request is not successful or time out.\n",
    "    if not req.ok:\n",
    "        return ''\n",
    "    soup = BeautifulSoup(req.content, 'html.parser')\n",
    "    # Extracting the type of the company from the infobox vcard. Rise an\n",
    "    \n",
    "    try:\n",
    "        vcard = soup.find_all('table', {'class': 'infobox vcard'})[0]\n",
    "        comp_type = vcard.find('a', {'title': 'Public company'}).text\n",
    "    except:\n",
    "        print(f'No company type in {url}')\n",
    "        return ''\n",
    "    return comp_type"
   ]
  },
  {
   "cell_type": "code",
   "execution_count": null,
   "id": "465ad9b3",
   "metadata": {},
   "outputs": [],
   "source": [
    "# Multiprocessing to crawl the websites in parallel. \n",
    "with Pool(100) as p:\n",
    "    comp_type = p.map(get_type, companies['link'])"
   ]
  },
  {
   "cell_type": "code",
   "execution_count": null,
   "id": "2994e581",
   "metadata": {
    "lines_to_next_cell": 0
   },
   "outputs": [],
   "source": [
    "# Type of companies in lowercase.\n",
    "companies['type'] = [x.lower() for x in comp_type]"
   ]
  },
  {
   "cell_type": "code",
   "execution_count": null,
   "id": "0416853c",
   "metadata": {},
   "outputs": [],
   "source": [
    "# Because the format is not uniform between wikis, extract the word 'public'\n",
    "# from those companies that have that pattern in their type.\n",
    "pattern = re.compile(r'.*public.*')\n",
    "companies['type'] = [\n",
    "    pattern.sub('public', s) \n",
    "    if pattern.match(s) else s for s in companies.type\n",
    "]"
   ]
  },
  {
   "cell_type": "code",
   "execution_count": 12,
   "id": "3da41eb6",
   "metadata": {
    "lines_to_next_cell": 0
   },
   "outputs": [],
   "source": [
    "#companies.to_csv('data/companies_links_with_type.csv', index=False)\n",
    "#companies = pd.read_csv('data/companies_links_with_type.csv')"
   ]
  },
  {
   "cell_type": "code",
   "execution_count": 13,
   "id": "4ec30447",
   "metadata": {
    "lines_to_next_cell": 0
   },
   "outputs": [
    {
     "name": "stdout",
     "output_type": "stream",
     "text": [
      "                           company ticker  \\\n",
      "0          A. O. Smith Corporation    AOS   \n",
      "1               A10 Networks, Inc.   ATEN   \n",
      "2                  AAR Corporation    AIR   \n",
      "3                     Aaron's Inc.    AAN   \n",
      "4                         ABB LTD.    ABB   \n",
      "...                            ...    ...   \n",
      "1522  Zimmer Biomet Holdings, Inc.    ZBH   \n",
      "1524                   Zoetis Inc.    ZTS   \n",
      "1525                   Zuora, Inc.    ZUO   \n",
      "1526        3D Systems Corporation    DDD   \n",
      "1527                    3M Company    MMM   \n",
      "\n",
      "                                                link    type  \n",
      "0         https://www.wikipedia.org/wiki/A._O._Smith  public  \n",
      "1        https://www.wikipedia.org/wiki/A10_Networks  public  \n",
      "2            https://www.wikipedia.org/wiki/AAR_Corp  public  \n",
      "3     https://www.wikipedia.org/wiki/Aaron%27s,_Inc.  public  \n",
      "4           https://www.wikipedia.org/wiki/ABB_Group  public  \n",
      "...                                              ...     ...  \n",
      "1522    https://www.wikipedia.org/wiki/Zimmer_Biomet  public  \n",
      "1524           https://www.wikipedia.org/wiki/Zoetis  public  \n",
      "1525            https://www.wikipedia.org/wiki/Zuora  public  \n",
      "1526       https://www.wikipedia.org/wiki/3D_Systems  public  \n",
      "1527               https://www.wikipedia.org/wiki/3M  public  \n",
      "\n",
      "[1015 rows x 4 columns]\n"
     ]
    }
   ],
   "source": [
    "# Companies that are public according to their wiki page.\n",
    "print(companies.query(\"type=='public'\"))"
   ]
  },
  {
   "cell_type": "markdown",
   "id": "dedd0386",
   "metadata": {
    "lines_to_next_cell": 0
   },
   "source": [
    "<div style=\"border: 1px solid black; border-radius: 5px; overflow: hidden;\">\n",
    "    <div style=\"background-color: black; color: white; padding: 5px; text-align: left;\">\n",
    "       c.) \n",
    "    </div>\n",
    "    <div style=\"padding: 10px;\">\n",
    "        What is the percetages of companies that contain 1 letter, 2 letters, 3 letters, 4 letters, 5 letters,... in the ticker (drop punctuation)?\n",
    "</div>"
   ]
  },
  {
   "cell_type": "code",
   "execution_count": 14,
   "id": "81c83a79",
   "metadata": {
    "lines_to_next_cell": 0
   },
   "outputs": [],
   "source": [
    "companies['clean_ticker'] = [\n",
    "    re.match(r\"[^,.!? ]+\", x).group(0)\n",
    "    for x in companies.ticker\n",
    "]"
   ]
  },
  {
   "cell_type": "code",
   "execution_count": 15,
   "id": "f52bb4f6",
   "metadata": {
    "lines_to_next_cell": 0
   },
   "outputs": [],
   "source": [
    "companies['len_ticker'] = [len(x) for x in companies.clean_ticker]"
   ]
  },
  {
   "cell_type": "code",
   "execution_count": 16,
   "id": "10cbc024",
   "metadata": {
    "lines_to_next_cell": 0
   },
   "outputs": [],
   "source": [
    "len_ticker_pct = toolz.pipe(\n",
    "    companies[['clean_ticker', 'len_ticker']],\n",
    "    lambda x: x.drop_duplicates(),\n",
    "    lambda x: x.groupby('len_ticker'),\n",
    "    lambda x: x.count(),\n",
    "    lambda x: x * 100 / x.sum()\n",
    ")"
   ]
  },
  {
   "cell_type": "code",
   "execution_count": 17,
   "id": "21f8a324",
   "metadata": {
    "lines_to_next_cell": 0
   },
   "outputs": [
    {
     "name": "stdout",
     "output_type": "stream",
     "text": [
      "\n",
      "    -----------------------------------------\n",
      "        Length of the ticker: 1\n",
      "        % in the total of companies: 1.52\n",
      "    -----------------------------------------\n",
      "    \n",
      "\n",
      "    -----------------------------------------\n",
      "        Length of the ticker: 2\n",
      "        % in the total of companies: 10.13\n",
      "    -----------------------------------------\n",
      "    \n",
      "\n",
      "    -----------------------------------------\n",
      "        Length of the ticker: 3\n",
      "        % in the total of companies: 72.58\n",
      "    -----------------------------------------\n",
      "    \n",
      "\n",
      "    -----------------------------------------\n",
      "        Length of the ticker: 4\n",
      "        % in the total of companies: 15.76\n",
      "    -----------------------------------------\n",
      "    \n"
     ]
    }
   ],
   "source": [
    "for i, row in len_ticker_pct.iterrows():\n",
    "    tmp = f'''\n",
    "    -----------------------------------------\n",
    "        Length of the ticker: {i}\n",
    "        % in the total of companies: {row.clean_ticker:0.2f}\n",
    "    -----------------------------------------\n",
    "    '''\n",
    "    print(tmp)"
   ]
  },
  {
   "cell_type": "markdown",
   "id": "192d97d8",
   "metadata": {
    "lines_to_next_cell": 0
   },
   "source": [
    "## Web Scraping Using Beautiful Soup"
   ]
  },
  {
   "cell_type": "markdown",
   "id": "b359afbe",
   "metadata": {},
   "source": [
    "<div style=\"border: 1px solid black; border-radius: 5px; overflow: hidden;\">\n",
    "    <div style=\"background-color: black; color: white; padding: 5px; text-align: left;\">\n",
    "       a.) \n",
    "    </div>\n",
    "    <div style=\"padding: 10px;\">\n",
    "        Using Beautiful soup .findAll method you will webscrape the front page of Reddit. Get a list of all of the \"timestamps\"\n",
    "</div>"
   ]
  },
  {
   "cell_type": "code",
   "execution_count": null,
   "id": "fc666a69",
   "metadata": {
    "lines_to_next_cell": 0
   },
   "outputs": [],
   "source": [
    "URL = \"https://www.reddit.com\""
   ]
  },
  {
   "cell_type": "markdown",
   "id": "ee84c5d3",
   "metadata": {
    "lines_to_next_cell": 0
   },
   "source": [
    "<div style=\"border: 1px solid black; border-radius: 5px; overflow: hidden;\">\n",
    "    <div style=\"background-color: black; color: white; padding: 5px; text-align: left;\">\n",
    "       b.) \n",
    "    </div>\n",
    "    <div style=\"padding: 10px;\">\n",
    "        Using the functions findChild, descendents, etc. locate the post title, text and post time into a dataframe.\n",
    "</div>"
   ]
  },
  {
   "cell_type": "markdown",
   "id": "3c90f56f",
   "metadata": {
    "lines_to_next_cell": 0
   },
   "source": [
    "## RegEx"
   ]
  },
  {
   "cell_type": "markdown",
   "id": "2b67f160",
   "metadata": {},
   "source": [
    "<div style=\"border: 1px solid black; border-radius: 5px; overflow: hidden;\">\n",
    "    <div style=\"background-color: black; color: white; padding: 5px; text-align: left;\">\n",
    "       a.) \n",
    "    </div>\n",
    "    <div style=\"padding: 10px;\">\n",
    "        Using RegEx, get all the urls of ladder faculty profiles for UCLA Economics\n",
    "</div>"
   ]
  },
  {
   "cell_type": "code",
   "execution_count": null,
   "id": "99aa443f",
   "metadata": {
    "lines_to_next_cell": 0
   },
   "outputs": [],
   "source": [
    "URL = \"https://economics.ucla.edu/faculty/ladder\""
   ]
  },
  {
   "cell_type": "markdown",
   "id": "5201c24e",
   "metadata": {
    "lines_to_next_cell": 0
   },
   "source": [
    "<div style=\"border: 1px solid black; border-radius: 5px; overflow: hidden;\">\n",
    "    <div style=\"background-color: black; color: white; padding: 5px; text-align: left;\">\n",
    "       b.) \n",
    "    </div>\n",
    "    <div style=\"padding: 10px;\">\n",
    "        Webcrawl the links from A and use RegEx to get all the emails and phone numbers of ladder faculty profiles.\n",
    "</div>"
   ]
  },
  {
   "cell_type": "markdown",
   "id": "0c51e5be",
   "metadata": {
    "lines_to_next_cell": 0
   },
   "source": [
    "## Selenium"
   ]
  },
  {
   "cell_type": "markdown",
   "id": "e875d32b",
   "metadata": {},
   "source": [
    "<div style=\"border: 1px solid black; border-radius: 5px; overflow: hidden;\">\n",
    "    <div style=\"background-color: black; color: white; padding: 5px; text-align: left;\">\n",
    "       a.) \n",
    "    </div>\n",
    "    <div style=\"padding: 10px;\">\n",
    "        Pick a website that has useful data to a business or economic question. Put your website you plan to scrape here : \n",
    "        \n",
    "        https://docs.google.com/spreadsheets/d/1PJ2DOTCVCh51fn0ry1yB7qTyccR33_IXFpkYdd58MFs/edit?usp=sharing\n",
    "\n",
    "        You must have use website that no other group has. First come first serve.\n",
    "</div>"
   ]
  },
  {
   "cell_type": "markdown",
   "id": "87d00f7a",
   "metadata": {
    "lines_to_next_cell": 0
   },
   "source": [
    "<div style=\"border: 1px solid black; border-radius: 5px; overflow: hidden;\">\n",
    "    <div style=\"background-color: black; color: white; padding: 5px; text-align: left;\">\n",
    "       b.) \n",
    "    </div>\n",
    "    <div style=\"padding: 10px;\">\n",
    "        Use Selenium to scrape valuable information from your website and store in a dataframe.\n",
    "</div>"
   ]
  },
  {
   "cell_type": "markdown",
   "id": "acac15cb",
   "metadata": {},
   "source": [
    "<div style=\"border: 1px solid black; border-radius: 5px; overflow: hidden;\">\n",
    "    <div style=\"background-color: black; color: white; padding: 5px; text-align: left;\">\n",
    "       c.) \n",
    "    </div>\n",
    "    <div style=\"padding: 10px;\">\n",
    "        Write a short paragraph about the businesses or research that would use the data you scraped. Describe it's value and what it can be used for.\n",
    "</div>"
   ]
  }
 ],
 "metadata": {
  "jupytext": {
   "cell_metadata_filter": "-all",
   "formats": "py:percent,ipynb",
   "main_language": "python"
  },
  "language_info": {
   "name": "python",
   "version": "3.11.5"
  }
 },
 "nbformat": 4,
 "nbformat_minor": 5
}
