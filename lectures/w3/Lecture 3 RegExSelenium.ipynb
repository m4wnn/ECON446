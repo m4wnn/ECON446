{
 "cells": [
  {
   "cell_type": "markdown",
   "id": "d574b306",
   "metadata": {},
   "source": [
    "# 1.) Regular Expressions"
   ]
  },
  {
   "cell_type": "markdown",
   "id": "874ed3b4",
   "metadata": {},
   "source": [
    "### 1.1.) Build a function that uses Regular Expressions to pull the car value of a given car in Kelley Blue Book."
   ]
  },
  {
   "cell_type": "code",
   "execution_count": 1,
   "id": "458ef08a",
   "metadata": {},
   "outputs": [],
   "source": [
    "from bs4 import BeautifulSoup\n",
    "import requests\n",
    "import pandas as pd"
   ]
  },
  {
   "cell_type": "code",
   "execution_count": 2,
   "id": "4035f876",
   "metadata": {},
   "outputs": [],
   "source": [
    "def lovely_soup(u):\n",
    "    page = requests.get(u)\n",
    "    return(BeautifulSoup(page.content, 'html.parser'))"
   ]
  },
  {
   "cell_type": "code",
   "execution_count": 3,
   "id": "33611c88",
   "metadata": {},
   "outputs": [],
   "source": [
    "url = \"https://www.kbb.com/\n",
    "\n",
    "# GO HERE AND INPUT CAR INFO TO GET FULL URL"
   ]
  },
  {
   "cell_type": "code",
   "execution_count": null,
   "id": "a01e0a8f",
   "metadata": {},
   "outputs": [],
   "source": []
  },
  {
   "cell_type": "code",
   "execution_count": null,
   "id": "a1b7a1b1",
   "metadata": {},
   "outputs": [],
   "source": []
  },
  {
   "cell_type": "code",
   "execution_count": null,
   "id": "e83dc106",
   "metadata": {},
   "outputs": [],
   "source": []
  },
  {
   "cell_type": "code",
   "execution_count": null,
   "id": "4b2c1fa6",
   "metadata": {},
   "outputs": [],
   "source": []
  },
  {
   "cell_type": "code",
   "execution_count": null,
   "id": "a5ba0106",
   "metadata": {},
   "outputs": [],
   "source": []
  },
  {
   "cell_type": "code",
   "execution_count": null,
   "id": "89278bc8",
   "metadata": {},
   "outputs": [],
   "source": []
  },
  {
   "cell_type": "code",
   "execution_count": null,
   "id": "0b2b82f3",
   "metadata": {},
   "outputs": [],
   "source": []
  },
  {
   "cell_type": "code",
   "execution_count": null,
   "id": "70dba4d0",
   "metadata": {},
   "outputs": [],
   "source": []
  },
  {
   "cell_type": "code",
   "execution_count": null,
   "id": "4d837835",
   "metadata": {},
   "outputs": [],
   "source": []
  },
  {
   "cell_type": "code",
   "execution_count": null,
   "id": "4d0aea86",
   "metadata": {
    "scrolled": true
   },
   "outputs": [],
   "source": []
  },
  {
   "cell_type": "code",
   "execution_count": null,
   "id": "429016f9",
   "metadata": {},
   "outputs": [],
   "source": []
  },
  {
   "cell_type": "code",
   "execution_count": null,
   "id": "a517e0ec",
   "metadata": {},
   "outputs": [],
   "source": []
  },
  {
   "cell_type": "code",
   "execution_count": null,
   "id": "955bddeb",
   "metadata": {},
   "outputs": [],
   "source": [
    "\n",
    "    "
   ]
  },
  {
   "cell_type": "code",
   "execution_count": null,
   "id": "54ac9e5b",
   "metadata": {},
   "outputs": [],
   "source": []
  },
  {
   "cell_type": "markdown",
   "id": "9536502c",
   "metadata": {},
   "source": [
    "# 2.) Selenium"
   ]
  },
  {
   "cell_type": "markdown",
   "id": "f96f40c3",
   "metadata": {},
   "source": [
    "### 2.1.) Open a browser using selenium,  using the driver search for Disney jobs in the United States.\n",
    "### Find the number of new jobs posted"
   ]
  },
  {
   "cell_type": "code",
   "execution_count": 30,
   "id": "d0692fb7-4d60-4fac-8ca8-6d9ec6426916",
   "metadata": {},
   "outputs": [],
   "source": [
    "#!pip install selenium"
   ]
  },
  {
   "cell_type": "code",
   "execution_count": 31,
   "id": "29255c0b",
   "metadata": {},
   "outputs": [],
   "source": [
    "import selenium\n",
    "from selenium import webdriver\n",
    "from selenium.webdriver.common.keys import Keys"
   ]
  },
  {
   "cell_type": "code",
   "execution_count": 36,
   "id": "781a2492",
   "metadata": {},
   "outputs": [],
   "source": [
    "#PATH = \"/Users/windows/Desktop/Drivers/chromedriver\"\n",
    "#driver = webdriver.Chrome(PATH)\n",
    "#driver.get(URL)"
   ]
  },
  {
   "cell_type": "code",
   "execution_count": 79,
   "id": "91fe692d",
   "metadata": {},
   "outputs": [],
   "source": [
    "URL = \"https://www.linkedin.com/jobs/search?keywords=disney&location=Los%20Angeles\"\n"
   ]
  },
  {
   "cell_type": "code",
   "execution_count": null,
   "id": "286002ec",
   "metadata": {},
   "outputs": [],
   "source": [
    "from selenium import webdriver\n",
    "from selenium.webdriver.chrome.service import Service\n",
    "from webdriver_manager.chrome import ChromeDriverManager\n",
    "from selenium.webdriver.common.by import By"
   ]
  },
  {
   "cell_type": "code",
   "execution_count": 81,
   "id": "3be5de34",
   "metadata": {},
   "outputs": [],
   "source": []
  },
  {
   "cell_type": "code",
   "execution_count": 65,
   "id": "5aa0a367-72ed-4914-bf76-2a6fa70c2edb",
   "metadata": {},
   "outputs": [],
   "source": []
  },
  {
   "cell_type": "code",
   "execution_count": null,
   "id": "31e05288-499e-4d1c-afaa-62e3185158c2",
   "metadata": {},
   "outputs": [],
   "source": []
  },
  {
   "cell_type": "code",
   "execution_count": null,
   "id": "6c454be1-b84b-41b0-8846-636d30ec9707",
   "metadata": {},
   "outputs": [],
   "source": []
  },
  {
   "cell_type": "code",
   "execution_count": null,
   "id": "be3b75f3-aea4-4741-a172-8e5fad14eb94",
   "metadata": {},
   "outputs": [],
   "source": []
  },
  {
   "cell_type": "markdown",
   "id": "9a9a9fd6-b641-4c89-9dbe-e567eab92ac7",
   "metadata": {},
   "source": [
    "# Google"
   ]
  },
  {
   "cell_type": "code",
   "execution_count": 88,
   "id": "b9e8ec93-867d-43d3-897e-e3b4cbef6ed3",
   "metadata": {},
   "outputs": [],
   "source": [
    "from selenium import webdriver\n",
    "from selenium.webdriver.common.by import By\n",
    "from selenium.webdriver.common.keys import Keys\n",
    "from selenium.webdriver.chrome.service import Service\n",
    "from webdriver_manager.chrome import ChromeDriverManager\n",
    "from selenium.webdriver.support.ui import WebDriverWait\n",
    "from selenium.webdriver.support import expected_conditions as EC\n",
    "\n",
    "# Setup Chrome WebDriver\n",
    "service = Service(ChromeDriverManager().install())\n",
    "driver = webdriver.Chrome(service=service)\n"
   ]
  },
  {
   "cell_type": "code",
   "execution_count": null,
   "id": "74bc06c0-645d-4842-bd2a-86d65ac0bc31",
   "metadata": {},
   "outputs": [],
   "source": []
  },
  {
   "cell_type": "code",
   "execution_count": null,
   "id": "3c6a2231-8f5f-40dd-848e-288d5d9f3cb1",
   "metadata": {},
   "outputs": [],
   "source": []
  }
 ],
 "metadata": {
  "kernelspec": {
   "display_name": "Python 3 (ipykernel)",
   "language": "python",
   "name": "python3"
  },
  "language_info": {
   "codemirror_mode": {
    "name": "ipython",
    "version": 3
   },
   "file_extension": ".py",
   "mimetype": "text/x-python",
   "name": "python",
   "nbconvert_exporter": "python",
   "pygments_lexer": "ipython3",
   "version": "3.11.7"
  }
 },
 "nbformat": 4,
 "nbformat_minor": 5
}
