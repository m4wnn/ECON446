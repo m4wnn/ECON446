{
 "cells": [
  {
   "cell_type": "code",
   "execution_count": 1,
   "id": "0cc9be4a",
   "metadata": {},
   "outputs": [],
   "source": [
    "#Names of Group Members\n",
    "# Need a team? Sign up here before Friday : https://docs.google.com/spreadsheets/d/1fWUZ9X0cu1oBapefalC7G6oMqDZ9MoZw9Zzn0sF8faY/edit?usp=sharing"
   ]
  },
  {
   "cell_type": "code",
   "execution_count": null,
   "id": "17a188b7",
   "metadata": {},
   "outputs": [],
   "source": []
  },
  {
   "cell_type": "markdown",
   "id": "a746379b",
   "metadata": {},
   "source": [
    "# Q1.) Web Crawling Tables"
   ]
  },
  {
   "cell_type": "markdown",
   "id": "1c9c053e",
   "metadata": {},
   "source": [
    "### Q1.A.) Create a list of links for all the wikipedia pages for NYSE traded companies A-Z and 0-9"
   ]
  },
  {
   "cell_type": "code",
   "execution_count": null,
   "id": "cacb8e3d",
   "metadata": {},
   "outputs": [],
   "source": [
    "URL = \"https://en.wikipedia.org/wiki/Companies_listed_on_the_New_York_Stock_Exchange_(A)\"\n"
   ]
  },
  {
   "cell_type": "code",
   "execution_count": null,
   "id": "658e0fac",
   "metadata": {},
   "outputs": [],
   "source": []
  },
  {
   "cell_type": "markdown",
   "id": "6efc32e3",
   "metadata": {},
   "source": [
    "### Q1.B.) Crawl through all the URLs and make 1 DF with all the NYSE publically traded companies"
   ]
  },
  {
   "cell_type": "code",
   "execution_count": null,
   "id": "d8c9b13c",
   "metadata": {},
   "outputs": [],
   "source": []
  },
  {
   "cell_type": "code",
   "execution_count": null,
   "id": "33fdbfd7",
   "metadata": {},
   "outputs": [],
   "source": []
  },
  {
   "cell_type": "markdown",
   "id": "4290fd74",
   "metadata": {},
   "source": [
    "### Q1.C.) What is the percetages of companies that contain 1 letter, 2 letters, 3 letters, 4 letters, 5 letters,... in the ticker (drop punctuation)?"
   ]
  },
  {
   "cell_type": "code",
   "execution_count": null,
   "id": "498afb3a",
   "metadata": {},
   "outputs": [],
   "source": []
  },
  {
   "cell_type": "code",
   "execution_count": null,
   "id": "e9af6842",
   "metadata": {},
   "outputs": [],
   "source": []
  },
  {
   "cell_type": "markdown",
   "id": "6a2ef18b",
   "metadata": {},
   "source": [
    "# Q2.) Web Scraping Using Beautiful Soup"
   ]
  },
  {
   "cell_type": "markdown",
   "id": "bf558ab0",
   "metadata": {},
   "source": [
    "### Q2.A.) Using Beautiful soup .findAll method you will webscrape the front page of Reddit. Get a list of all of the \"timestamps\""
   ]
  },
  {
   "cell_type": "code",
   "execution_count": null,
   "id": "486d042e",
   "metadata": {},
   "outputs": [],
   "source": [
    "URL = \"https://www.reddit.com\""
   ]
  },
  {
   "cell_type": "code",
   "execution_count": null,
   "id": "ea0be811",
   "metadata": {},
   "outputs": [],
   "source": []
  },
  {
   "cell_type": "markdown",
   "id": "269d9855",
   "metadata": {},
   "source": [
    "### Q2.B.) Using the functions findChild, descendents, etc. locate the post title, text and post time into a dataframe."
   ]
  },
  {
   "cell_type": "code",
   "execution_count": null,
   "id": "c47bce72",
   "metadata": {},
   "outputs": [],
   "source": []
  },
  {
   "cell_type": "code",
   "execution_count": null,
   "id": "84664c13",
   "metadata": {},
   "outputs": [],
   "source": []
  },
  {
   "cell_type": "markdown",
   "id": "fd92ff4f",
   "metadata": {},
   "source": [
    "# Q3.) RegEx"
   ]
  },
  {
   "cell_type": "markdown",
   "id": "ecb63deb",
   "metadata": {},
   "source": [
    "### Q3.A.) Using RegEx, get all the urls of ladder faculty profiles for UCLA Economics"
   ]
  },
  {
   "cell_type": "code",
   "execution_count": null,
   "id": "14f85363",
   "metadata": {},
   "outputs": [],
   "source": [
    "URL = \"https://economics.ucla.edu/faculty/ladder\""
   ]
  },
  {
   "cell_type": "code",
   "execution_count": null,
   "id": "80e1ff92",
   "metadata": {},
   "outputs": [],
   "source": []
  },
  {
   "cell_type": "markdown",
   "id": "633e5c6f",
   "metadata": {},
   "source": [
    "### Q3.B.) Webcrawl the links from A and use RegEx to get all the emails and phone numbers of ladder faculty profiles"
   ]
  },
  {
   "cell_type": "code",
   "execution_count": null,
   "id": "7d65ca81",
   "metadata": {},
   "outputs": [],
   "source": []
  },
  {
   "cell_type": "code",
   "execution_count": null,
   "id": "4fa6625b",
   "metadata": {},
   "outputs": [],
   "source": []
  },
  {
   "cell_type": "markdown",
   "id": "effefb68",
   "metadata": {},
   "source": [
    "# Q4.) Selenium"
   ]
  },
  {
   "cell_type": "markdown",
   "id": "9d571a9c",
   "metadata": {},
   "source": [
    "### Q4.A.) Pick a website that has useful data to a business or economic question. Put your website you plan to scrape here : https://docs.google.com/spreadsheets/d/1PJ2DOTCVCh51fn0ry1yB7qTyccR33_IXFpkYdd58MFs/edit?usp=sharing\n",
    "### You must have use website that no other group has. First come first serve "
   ]
  },
  {
   "cell_type": "code",
   "execution_count": 2,
   "id": "f0c78096",
   "metadata": {},
   "outputs": [],
   "source": [
    "URL ="
   ]
  },
  {
   "cell_type": "code",
   "execution_count": null,
   "id": "6cc26fa0",
   "metadata": {},
   "outputs": [],
   "source": []
  },
  {
   "cell_type": "markdown",
   "id": "73399b19",
   "metadata": {},
   "source": [
    "### Q4.B.) Use Selenium to scrape valuable information from your website and store in a dataframe."
   ]
  },
  {
   "cell_type": "code",
   "execution_count": null,
   "id": "61d776ac",
   "metadata": {},
   "outputs": [],
   "source": []
  },
  {
   "cell_type": "code",
   "execution_count": null,
   "id": "ba13bf01",
   "metadata": {},
   "outputs": [],
   "source": []
  },
  {
   "cell_type": "markdown",
   "id": "5448ae29",
   "metadata": {},
   "source": [
    "### Q4.C.) Write a short paragraph about the businesses or research that would use the data you scraped. Describe it's value and what it can be used for."
   ]
  },
  {
   "cell_type": "code",
   "execution_count": null,
   "id": "0523c365",
   "metadata": {},
   "outputs": [],
   "source": []
  },
  {
   "cell_type": "code",
   "execution_count": null,
   "id": "17a6b0ff",
   "metadata": {},
   "outputs": [],
   "source": []
  }
 ],
 "metadata": {
  "kernelspec": {
   "display_name": "Python 3 (ipykernel)",
   "language": "python",
   "name": "python3"
  },
  "language_info": {
   "codemirror_mode": {
    "name": "ipython",
    "version": 3
   },
   "file_extension": ".py",
   "mimetype": "text/x-python",
   "name": "python",
   "nbconvert_exporter": "python",
   "pygments_lexer": "ipython3",
   "version": "3.8.12"
  }
 },
 "nbformat": 4,
 "nbformat_minor": 5
}
