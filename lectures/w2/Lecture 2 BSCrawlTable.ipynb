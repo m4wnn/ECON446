{
 "cells": [
  {
   "cell_type": "markdown",
   "id": "38790cd3",
   "metadata": {},
   "source": [
    "# 1.) Absolute Links WebCrawl : \n",
    "## Our Goal is to expand on what we did last class. Grab data from all the webpages, not just one."
   ]
  },
  {
   "cell_type": "code",
   "execution_count": 1,
   "id": "5826ee3c",
   "metadata": {},
   "outputs": [],
   "source": [
    "# Import Packages\n",
    "from bs4 import BeautifulSoup\n",
    "import requests\n",
    "import pandas as pd\n",
    "\n",
    "# We talk about user agents later so run and ignore\n",
    "user_agent_list = [\"Mozilla/5.0 (Windows NT 10.0; Win64; x64) AppleWebKit/537.36 (KHTML, like Gecko) Chrome/42.0.2311.135 Safari/537.36 Edge/12.246\" \n",
    ",\"Mozilla/5.0 (Windows NT 6.1; WOW64) AppleWebKit/537.36 (KHTML, like Gecko) Chrome/47.0.2526.111 Safari/537.36 \"\n",
    ",\"Mozilla/5.0 (Macintosh; Intel Mac OS X 10_11_2) AppleWebKit/601.3.9 (KHTML, like Gecko) Version/9.0.2 Safari/601.3.9 \"\n",
    ",\"Mozilla/5.0 (X11; Ubuntu; Linux x86_64; rv:15.0) Gecko/20100101 Firefox/15.0.1\" \n",
    ",\"Mozilla/5.0 (X11; CrOS x86_64 8172.45.0) AppleWebKit/537.36 (KHTML, like Gecko) Chrome/51.0.2704.64 Safari/537.36\"] \n",
    "\n",
    "headers = {\n",
    "    'User-Agent': user_agent_list[3]}"
   ]
  },
  {
   "cell_type": "code",
   "execution_count": 2,
   "id": "84772609",
   "metadata": {},
   "outputs": [],
   "source": [
    "# USE THE FUNCTION BUILT LAST CLASS TO PULL FROM ANY URL\n"
   ]
  },
  {
   "cell_type": "code",
   "execution_count": null,
   "id": "0d3e1347",
   "metadata": {},
   "outputs": [],
   "source": []
  },
  {
   "cell_type": "code",
   "execution_count": null,
   "id": "89c94224",
   "metadata": {},
   "outputs": [],
   "source": []
  },
  {
   "cell_type": "markdown",
   "id": "071cc61d",
   "metadata": {},
   "source": [
    "# Now find a pattern for the URLs of apartment.com for different pages."
   ]
  },
  {
   "cell_type": "code",
   "execution_count": null,
   "id": "eb663e9e",
   "metadata": {},
   "outputs": [],
   "source": []
  },
  {
   "cell_type": "markdown",
   "id": "e67f108b",
   "metadata": {},
   "source": [
    "# Loop through and store all the highs.lows on each page"
   ]
  },
  {
   "cell_type": "code",
   "execution_count": null,
   "id": "f79cd70a",
   "metadata": {},
   "outputs": [],
   "source": [
    "import random\n",
    "import time"
   ]
  },
  {
   "cell_type": "code",
   "execution_count": null,
   "id": "fa2b6fc4",
   "metadata": {},
   "outputs": [],
   "source": []
  },
  {
   "cell_type": "code",
   "execution_count": null,
   "id": "f96326fd",
   "metadata": {},
   "outputs": [],
   "source": []
  },
  {
   "cell_type": "code",
   "execution_count": null,
   "id": "139bd5f2",
   "metadata": {},
   "outputs": [],
   "source": []
  },
  {
   "cell_type": "code",
   "execution_count": null,
   "id": "c0856b32",
   "metadata": {},
   "outputs": [],
   "source": []
  },
  {
   "cell_type": "code",
   "execution_count": null,
   "id": "1fe919d3",
   "metadata": {},
   "outputs": [],
   "source": [
    "# Some Visualizations"
   ]
  },
  {
   "cell_type": "code",
   "execution_count": 34,
   "id": "69074f21",
   "metadata": {},
   "outputs": [],
   "source": [
    "import matplotlib.pyplot as plt"
   ]
  },
  {
   "cell_type": "code",
   "execution_count": 36,
   "id": "7c8e77f5",
   "metadata": {},
   "outputs": [
    {
     "data": {
      "image/png": "[encoded data removed]",
      "text/plain": [
       "<Figure size 432x288 with 1 Axes>"
      ]
     },
     "metadata": {
      "needs_background": "light"
     },
     "output_type": "display_data"
    }
   ],
   "source": [
    "data = [lows, highs]\n",
    "\n",
    "fig, ax = plt.subplots()\n",
    "ax.boxplot(data)\n",
    "ax.set_xticklabels(['Lows', 'Highs'])\n",
    "ax.set_title('Distribution of Apartment Prices')\n",
    "ax.set_ylabel('Price')\n",
    "ax.set_xlabel('Category')\n",
    "plt.show()\n"
   ]
  },
  {
   "cell_type": "code",
   "execution_count": 39,
   "id": "bf3c6aff",
   "metadata": {
    "scrolled": true
   },
   "outputs": [
    {
     "data": {
      "image/png": "[encoded data removed]",
      "text/plain": [
       "<Figure size 432x288 with 1 Axes>"
      ]
     },
     "metadata": {
      "needs_background": "light"
     },
     "output_type": "display_data"
    }
   ],
   "source": [
    "plt.figure()\n",
    "plt.hist(lows, bins=30, alpha=0.5, color='blue', label='Lows')\n",
    "plt.hist(highs, bins=30, alpha=0.5, color='green', label='Highs')\n",
    "plt.title('Distribution of Apartment Prices')\n",
    "plt.xlabel('Price')\n",
    "plt.ylabel('Frequency')\n",
    "plt.legend(loc='upper right')\n",
    "plt.show()"
   ]
  },
  {
   "cell_type": "markdown",
   "id": "49f5a2b5",
   "metadata": {},
   "source": [
    "# 2.) Relative Reference Webcrawl : Webscrape all Fed Survey CSVs"
   ]
  },
  {
   "cell_type": "code",
   "execution_count": 2,
   "id": "5a9bc195",
   "metadata": {},
   "outputs": [],
   "source": [
    "def lovely_soup(u):\n",
    "    page = requests.get(u)\n",
    "    return(BeautifulSoup(page.content, 'html.parser'))"
   ]
  },
  {
   "cell_type": "code",
   "execution_count": 3,
   "id": "b29878f0",
   "metadata": {},
   "outputs": [],
   "source": [
    "url = \"https://www.dallasfed.org/research/econdata#top\"\n",
    "base_url = \n",
    "#soup = lovely_soup(url)"
   ]
  },
  {
   "cell_type": "code",
   "execution_count": null,
   "id": "6da6de57",
   "metadata": {},
   "outputs": [],
   "source": []
  },
  {
   "cell_type": "code",
   "execution_count": null,
   "id": "6011bb1c",
   "metadata": {},
   "outputs": [],
   "source": []
  },
  {
   "cell_type": "code",
   "execution_count": null,
   "id": "5f55be04",
   "metadata": {},
   "outputs": [],
   "source": []
  },
  {
   "cell_type": "code",
   "execution_count": 1,
   "id": "e5cdebe9",
   "metadata": {},
   "outputs": [],
   "source": [
    "# Step 1: Get all Survey URLS\n"
   ]
  },
  {
   "cell_type": "code",
   "execution_count": null,
   "id": "5f445a5a",
   "metadata": {},
   "outputs": [],
   "source": []
  },
  {
   "cell_type": "code",
   "execution_count": null,
   "id": "de364468",
   "metadata": {},
   "outputs": [],
   "source": []
  },
  {
   "cell_type": "code",
   "execution_count": 19,
   "id": "b2a4f11d",
   "metadata": {},
   "outputs": [],
   "source": [
    "#Step 2: Get Excel links for 1 page\n"
   ]
  },
  {
   "cell_type": "code",
   "execution_count": 27,
   "id": "aeede2f8",
   "metadata": {},
   "outputs": [],
   "source": [
    "# Step 3 : Get Excel Links for all pages\n"
   ]
  },
  {
   "cell_type": "code",
   "execution_count": null,
   "id": "8128b894",
   "metadata": {},
   "outputs": [],
   "source": []
  },
  {
   "cell_type": "code",
   "execution_count": null,
   "id": "af9b8768",
   "metadata": {},
   "outputs": [],
   "source": []
  },
  {
   "cell_type": "code",
   "execution_count": null,
   "id": "738921ff",
   "metadata": {},
   "outputs": [],
   "source": []
  },
  {
   "cell_type": "code",
   "execution_count": null,
   "id": "506332d6",
   "metadata": {},
   "outputs": [],
   "source": []
  },
  {
   "cell_type": "markdown",
   "id": "34d14f4b",
   "metadata": {},
   "source": [
    "# 3.) Read online Tables\n"
   ]
  },
  {
   "cell_type": "markdown",
   "id": "2010de7c",
   "metadata": {},
   "source": [
    "### Example 1.) Wikipedia"
   ]
  },
  {
   "cell_type": "code",
   "execution_count": 2,
   "id": "08dc47d3",
   "metadata": {},
   "outputs": [],
   "source": [
    "# Example 1 : \n",
    "URL = \"https://en.wikipedia.org/wiki/Companies_listed_on_the_New_York_Stock_Exchange_(A)\"\n",
    "\n"
   ]
  },
  {
   "cell_type": "code",
   "execution_count": null,
   "id": "8fbdb029",
   "metadata": {},
   "outputs": [],
   "source": []
  },
  {
   "cell_type": "markdown",
   "id": "5d18f840",
   "metadata": {},
   "source": [
    "### Example 2 : Top end sports"
   ]
  },
  {
   "cell_type": "code",
   "execution_count": 3,
   "id": "e286f2e3",
   "metadata": {},
   "outputs": [],
   "source": [
    "# Example 2 : \n",
    "URL = \"https://www.topendsports.com/events/calendar-2023.htm\"\n"
   ]
  },
  {
   "cell_type": "code",
   "execution_count": null,
   "id": "35281d35",
   "metadata": {},
   "outputs": [],
   "source": []
  },
  {
   "cell_type": "code",
   "execution_count": null,
   "id": "c09e1723",
   "metadata": {},
   "outputs": [],
   "source": []
  }
 ],
 "metadata": {
  "kernelspec": {
   "display_name": "Python 3 (ipykernel)",
   "language": "python",
   "name": "python3"
  },
  "language_info": {
   "codemirror_mode": {
    "name": "ipython",
    "version": 3
   },
   "file_extension": ".py",
   "mimetype": "text/x-python",
   "name": "python",
   "nbconvert_exporter": "python",
   "pygments_lexer": "ipython3",
   "version": "3.8.12"
  }
 },
 "nbformat": 4,
 "nbformat_minor": 5
}
